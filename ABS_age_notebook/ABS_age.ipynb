{
 "cells": [
  {
   "attachments": {},
   "cell_type": "markdown",
   "metadata": {},
   "source": [
    "# Playing with Pandas Dataframe"
   ]
  },
  {
   "attachments": {},
   "cell_type": "markdown",
   "metadata": {},
   "source": [
    "<h2>To open jupyter notebook in vscode</h2>\n",
    "<ol>\n",
    "<li>Install Anaconda</li>\n",
    "<li>Install python extension in vscode</li>\n",
    "<li>Open command palette using ctrl+shift+p and choose python interpretor</li>\n",
    "<li>In command palette, type \"new notebook\"</li>\n",
    "<li>You might need to install ipykernel, vscode will do it, just run a simple python command like print(\"Hello\")</li>\n",
    "</ol>"
   ]
  },
  {
   "attachments": {},
   "cell_type": "markdown",
   "metadata": {},
   "source": [
    "<h2>Pandas Dataframe Basic Commands</h2>"
   ]
  },
  {
   "cell_type": "code",
   "execution_count": 18,
   "metadata": {},
   "outputs": [
    {
     "name": "stdout",
     "output_type": "stream",
     "text": [
      "Hello\n"
     ]
    },
    {
     "data": {
      "text/plain": [
       "melons    4\n",
       "grapes    5\n",
       "Name: Mar, dtype: int64"
      ]
     },
     "execution_count": 18,
     "metadata": {},
     "output_type": "execute_result"
    }
   ],
   "source": [
    "#https://www.learndatasci.com/tutorials/python-pandas-tutorial-complete-introduction-for-beginners/\n",
    "print(\"Hello\")\n",
    "import pandas as pd\n",
    "# Simple way to create a dataframe using dictionary(name, value pairs)\n",
    "data={\n",
    "    \"melons\":[0,3,4,2],\n",
    "    \"grapes\":[8,7,5,4]\n",
    "}\n",
    "#index of dataframe will be created automatically\n",
    "shopping = pd.DataFrame(data)\n",
    "shopping.head()\n",
    "shopping = pd.DataFrame(data, index=[\"Jan\", \"Feb\", \"Mar\",\"Apr\"])\n",
    "shopping.head()\n",
    "shopping.loc[\"Mar\"]\n"
   ]
  },
  {
   "cell_type": "code",
   "execution_count": 19,
   "metadata": {},
   "outputs": [
    {
     "name": "stderr",
     "output_type": "stream",
     "text": [
      "C:\\Users\\A\\AppData\\Local\\Temp\\ipykernel_6048\\3021414992.py:2: DtypeWarning: Columns (2) have mixed types. Specify dtype option on import or set low_memory=False.\n",
      "  df = pd.read_csv(r\"C:\\Users\\A\\jupyter practice\\ABS_age_notebook\\ABS_age.csv\")\n"
     ]
    },
    {
     "data": {
      "text/html": [
       "<div>\n",
       "<style scoped>\n",
       "    .dataframe tbody tr th:only-of-type {\n",
       "        vertical-align: middle;\n",
       "    }\n",
       "\n",
       "    .dataframe tbody tr th {\n",
       "        vertical-align: top;\n",
       "    }\n",
       "\n",
       "    .dataframe thead th {\n",
       "        text-align: right;\n",
       "    }\n",
       "</style>\n",
       "<table border=\"1\" class=\"dataframe\">\n",
       "  <thead>\n",
       "    <tr style=\"text-align: right;\">\n",
       "      <th></th>\n",
       "      <th>SEX_ABS</th>\n",
       "      <th>Sex</th>\n",
       "      <th>AGE</th>\n",
       "      <th>Age</th>\n",
       "      <th>STATE</th>\n",
       "      <th>State</th>\n",
       "      <th>REGIONTYPE</th>\n",
       "      <th>Geography Level</th>\n",
       "      <th>ASGS_2016</th>\n",
       "      <th>Region</th>\n",
       "      <th>TIME</th>\n",
       "      <th>Census year</th>\n",
       "      <th>Value</th>\n",
       "      <th>Flag Codes</th>\n",
       "      <th>Flags</th>\n",
       "    </tr>\n",
       "  </thead>\n",
       "  <tbody>\n",
       "    <tr>\n",
       "      <th>0</th>\n",
       "      <td>1</td>\n",
       "      <td>Males</td>\n",
       "      <td>TT</td>\n",
       "      <td>All ages</td>\n",
       "      <td>1</td>\n",
       "      <td>New South Wales</td>\n",
       "      <td>SA4</td>\n",
       "      <td>Statistical Area Level 4</td>\n",
       "      <td>102</td>\n",
       "      <td>Central Coast</td>\n",
       "      <td>2011</td>\n",
       "      <td>2011</td>\n",
       "      <td>150704</td>\n",
       "      <td>NaN</td>\n",
       "      <td>NaN</td>\n",
       "    </tr>\n",
       "    <tr>\n",
       "      <th>1</th>\n",
       "      <td>1</td>\n",
       "      <td>Males</td>\n",
       "      <td>TT</td>\n",
       "      <td>All ages</td>\n",
       "      <td>1</td>\n",
       "      <td>New South Wales</td>\n",
       "      <td>SA4</td>\n",
       "      <td>Statistical Area Level 4</td>\n",
       "      <td>102</td>\n",
       "      <td>Central Coast</td>\n",
       "      <td>2016</td>\n",
       "      <td>2016</td>\n",
       "      <td>158768</td>\n",
       "      <td>NaN</td>\n",
       "      <td>NaN</td>\n",
       "    </tr>\n",
       "    <tr>\n",
       "      <th>2</th>\n",
       "      <td>2</td>\n",
       "      <td>Females</td>\n",
       "      <td>TT</td>\n",
       "      <td>All ages</td>\n",
       "      <td>1</td>\n",
       "      <td>New South Wales</td>\n",
       "      <td>SA4</td>\n",
       "      <td>Statistical Area Level 4</td>\n",
       "      <td>102</td>\n",
       "      <td>Central Coast</td>\n",
       "      <td>2011</td>\n",
       "      <td>2011</td>\n",
       "      <td>161484</td>\n",
       "      <td>NaN</td>\n",
       "      <td>NaN</td>\n",
       "    </tr>\n",
       "    <tr>\n",
       "      <th>3</th>\n",
       "      <td>2</td>\n",
       "      <td>Females</td>\n",
       "      <td>TT</td>\n",
       "      <td>All ages</td>\n",
       "      <td>1</td>\n",
       "      <td>New South Wales</td>\n",
       "      <td>SA4</td>\n",
       "      <td>Statistical Area Level 4</td>\n",
       "      <td>102</td>\n",
       "      <td>Central Coast</td>\n",
       "      <td>2016</td>\n",
       "      <td>2016</td>\n",
       "      <td>168972</td>\n",
       "      <td>NaN</td>\n",
       "      <td>NaN</td>\n",
       "    </tr>\n",
       "    <tr>\n",
       "      <th>4</th>\n",
       "      <td>3</td>\n",
       "      <td>Persons</td>\n",
       "      <td>TT</td>\n",
       "      <td>All ages</td>\n",
       "      <td>1</td>\n",
       "      <td>New South Wales</td>\n",
       "      <td>SA4</td>\n",
       "      <td>Statistical Area Level 4</td>\n",
       "      <td>102</td>\n",
       "      <td>Central Coast</td>\n",
       "      <td>2011</td>\n",
       "      <td>2011</td>\n",
       "      <td>312182</td>\n",
       "      <td>NaN</td>\n",
       "      <td>NaN</td>\n",
       "    </tr>\n",
       "  </tbody>\n",
       "</table>\n",
       "</div>"
      ],
      "text/plain": [
       "   SEX_ABS      Sex AGE       Age  STATE            State REGIONTYPE  \\\n",
       "0        1    Males  TT  All ages      1  New South Wales        SA4   \n",
       "1        1    Males  TT  All ages      1  New South Wales        SA4   \n",
       "2        2  Females  TT  All ages      1  New South Wales        SA4   \n",
       "3        2  Females  TT  All ages      1  New South Wales        SA4   \n",
       "4        3  Persons  TT  All ages      1  New South Wales        SA4   \n",
       "\n",
       "            Geography Level  ASGS_2016         Region  TIME  Census year  \\\n",
       "0  Statistical Area Level 4        102  Central Coast  2011         2011   \n",
       "1  Statistical Area Level 4        102  Central Coast  2016         2016   \n",
       "2  Statistical Area Level 4        102  Central Coast  2011         2011   \n",
       "3  Statistical Area Level 4        102  Central Coast  2016         2016   \n",
       "4  Statistical Area Level 4        102  Central Coast  2011         2011   \n",
       "\n",
       "    Value  Flag Codes  Flags  \n",
       "0  150704         NaN    NaN  \n",
       "1  158768         NaN    NaN  \n",
       "2  161484         NaN    NaN  \n",
       "3  168972         NaN    NaN  \n",
       "4  312182         NaN    NaN  "
      ]
     },
     "execution_count": 19,
     "metadata": {},
     "output_type": "execute_result"
    }
   ],
   "source": [
    "# Read a file\n",
    "df = pd.read_csv(r\"C:\\Users\\A\\jupyter practice\\ABS_age_notebook\\ABS_age.csv\")\n",
    "#for json, which is just like python dictionary\n",
    "#for making an existing column the index column\n",
    "#df = pd.read_csv('purchases.csv', index_col=0)\n",
    "#pd.read_json()\n",
    "df.head()\n",
    "#save the file\n",
    "#df.to_csv(r\"C:\\Users\\A\\jupyter practice\\ABS_age_notebook\\ABS_age_clean.csv\")"
   ]
  },
  {
   "cell_type": "code",
   "execution_count": 20,
   "metadata": {},
   "outputs": [
    {
     "data": {
      "text/html": [
       "<div>\n",
       "<style scoped>\n",
       "    .dataframe tbody tr th:only-of-type {\n",
       "        vertical-align: middle;\n",
       "    }\n",
       "\n",
       "    .dataframe tbody tr th {\n",
       "        vertical-align: top;\n",
       "    }\n",
       "\n",
       "    .dataframe thead th {\n",
       "        text-align: right;\n",
       "    }\n",
       "</style>\n",
       "<table border=\"1\" class=\"dataframe\">\n",
       "  <thead>\n",
       "    <tr style=\"text-align: right;\">\n",
       "      <th></th>\n",
       "      <th>SEX_ABS</th>\n",
       "      <th>Sex</th>\n",
       "      <th>AGE</th>\n",
       "      <th>Age</th>\n",
       "      <th>STATE</th>\n",
       "      <th>State</th>\n",
       "      <th>REGIONTYPE</th>\n",
       "      <th>Geography Level</th>\n",
       "      <th>ASGS_2016</th>\n",
       "      <th>Region</th>\n",
       "      <th>TIME</th>\n",
       "      <th>Census year</th>\n",
       "      <th>Value</th>\n",
       "      <th>Flag Codes</th>\n",
       "      <th>Flags</th>\n",
       "    </tr>\n",
       "  </thead>\n",
       "  <tbody>\n",
       "    <tr>\n",
       "      <th>75109</th>\n",
       "      <td>1</td>\n",
       "      <td>Males</td>\n",
       "      <td>115</td>\n",
       "      <td>115 years and over</td>\n",
       "      <td>9</td>\n",
       "      <td>Other Territories</td>\n",
       "      <td>SA4</td>\n",
       "      <td>Statistical Area Level 4</td>\n",
       "      <td>999</td>\n",
       "      <td>Special Purpose Codes (SA4) (OT)</td>\n",
       "      <td>2016</td>\n",
       "      <td>2016</td>\n",
       "      <td>0</td>\n",
       "      <td>NaN</td>\n",
       "      <td>NaN</td>\n",
       "    </tr>\n",
       "    <tr>\n",
       "      <th>75110</th>\n",
       "      <td>2</td>\n",
       "      <td>Females</td>\n",
       "      <td>115</td>\n",
       "      <td>115 years and over</td>\n",
       "      <td>9</td>\n",
       "      <td>Other Territories</td>\n",
       "      <td>SA4</td>\n",
       "      <td>Statistical Area Level 4</td>\n",
       "      <td>999</td>\n",
       "      <td>Special Purpose Codes (SA4) (OT)</td>\n",
       "      <td>2011</td>\n",
       "      <td>2011</td>\n",
       "      <td>0</td>\n",
       "      <td>NaN</td>\n",
       "      <td>NaN</td>\n",
       "    </tr>\n",
       "    <tr>\n",
       "      <th>75111</th>\n",
       "      <td>2</td>\n",
       "      <td>Females</td>\n",
       "      <td>115</td>\n",
       "      <td>115 years and over</td>\n",
       "      <td>9</td>\n",
       "      <td>Other Territories</td>\n",
       "      <td>SA4</td>\n",
       "      <td>Statistical Area Level 4</td>\n",
       "      <td>999</td>\n",
       "      <td>Special Purpose Codes (SA4) (OT)</td>\n",
       "      <td>2016</td>\n",
       "      <td>2016</td>\n",
       "      <td>0</td>\n",
       "      <td>NaN</td>\n",
       "      <td>NaN</td>\n",
       "    </tr>\n",
       "    <tr>\n",
       "      <th>75112</th>\n",
       "      <td>3</td>\n",
       "      <td>Persons</td>\n",
       "      <td>115</td>\n",
       "      <td>115 years and over</td>\n",
       "      <td>9</td>\n",
       "      <td>Other Territories</td>\n",
       "      <td>SA4</td>\n",
       "      <td>Statistical Area Level 4</td>\n",
       "      <td>999</td>\n",
       "      <td>Special Purpose Codes (SA4) (OT)</td>\n",
       "      <td>2011</td>\n",
       "      <td>2011</td>\n",
       "      <td>0</td>\n",
       "      <td>NaN</td>\n",
       "      <td>NaN</td>\n",
       "    </tr>\n",
       "    <tr>\n",
       "      <th>75113</th>\n",
       "      <td>3</td>\n",
       "      <td>Persons</td>\n",
       "      <td>115</td>\n",
       "      <td>115 years and over</td>\n",
       "      <td>9</td>\n",
       "      <td>Other Territories</td>\n",
       "      <td>SA4</td>\n",
       "      <td>Statistical Area Level 4</td>\n",
       "      <td>999</td>\n",
       "      <td>Special Purpose Codes (SA4) (OT)</td>\n",
       "      <td>2016</td>\n",
       "      <td>2016</td>\n",
       "      <td>0</td>\n",
       "      <td>NaN</td>\n",
       "      <td>NaN</td>\n",
       "    </tr>\n",
       "  </tbody>\n",
       "</table>\n",
       "</div>"
      ],
      "text/plain": [
       "       SEX_ABS      Sex  AGE                 Age  STATE              State  \\\n",
       "75109        1    Males  115  115 years and over      9  Other Territories   \n",
       "75110        2  Females  115  115 years and over      9  Other Territories   \n",
       "75111        2  Females  115  115 years and over      9  Other Territories   \n",
       "75112        3  Persons  115  115 years and over      9  Other Territories   \n",
       "75113        3  Persons  115  115 years and over      9  Other Territories   \n",
       "\n",
       "      REGIONTYPE           Geography Level  ASGS_2016  \\\n",
       "75109        SA4  Statistical Area Level 4        999   \n",
       "75110        SA4  Statistical Area Level 4        999   \n",
       "75111        SA4  Statistical Area Level 4        999   \n",
       "75112        SA4  Statistical Area Level 4        999   \n",
       "75113        SA4  Statistical Area Level 4        999   \n",
       "\n",
       "                                 Region  TIME  Census year  Value  Flag Codes  \\\n",
       "75109  Special Purpose Codes (SA4) (OT)  2016         2016      0         NaN   \n",
       "75110  Special Purpose Codes (SA4) (OT)  2011         2011      0         NaN   \n",
       "75111  Special Purpose Codes (SA4) (OT)  2016         2016      0         NaN   \n",
       "75112  Special Purpose Codes (SA4) (OT)  2011         2011      0         NaN   \n",
       "75113  Special Purpose Codes (SA4) (OT)  2016         2016      0         NaN   \n",
       "\n",
       "       Flags  \n",
       "75109    NaN  \n",
       "75110    NaN  \n",
       "75111    NaN  \n",
       "75112    NaN  \n",
       "75113    NaN  "
      ]
     },
     "execution_count": 20,
     "metadata": {},
     "output_type": "execute_result"
    }
   ],
   "source": [
    "df.tail(5)"
   ]
  },
  {
   "cell_type": "code",
   "execution_count": 21,
   "metadata": {},
   "outputs": [
    {
     "name": "stdout",
     "output_type": "stream",
     "text": [
      "<class 'pandas.core.frame.DataFrame'>\n",
      "RangeIndex: 75114 entries, 0 to 75113\n",
      "Data columns (total 15 columns):\n",
      " #   Column           Non-Null Count  Dtype  \n",
      "---  ------           --------------  -----  \n",
      " 0   SEX_ABS          75114 non-null  int64  \n",
      " 1   Sex              75114 non-null  object \n",
      " 2   AGE              75114 non-null  object \n",
      " 3   Age              75114 non-null  object \n",
      " 4   STATE            75114 non-null  int64  \n",
      " 5   State            75114 non-null  object \n",
      " 6   REGIONTYPE       75114 non-null  object \n",
      " 7   Geography Level  75114 non-null  object \n",
      " 8   ASGS_2016        75114 non-null  int64  \n",
      " 9   Region           75114 non-null  object \n",
      " 10  TIME             75114 non-null  int64  \n",
      " 11  Census year      75114 non-null  int64  \n",
      " 12  Value            75114 non-null  int64  \n",
      " 13  Flag Codes       0 non-null      float64\n",
      " 14  Flags            0 non-null      float64\n",
      "dtypes: float64(2), int64(6), object(7)\n",
      "memory usage: 8.6+ MB\n"
     ]
    }
   ],
   "source": [
    "df.info()"
   ]
  },
  {
   "cell_type": "code",
   "execution_count": 22,
   "metadata": {},
   "outputs": [
    {
     "data": {
      "text/plain": [
       "(75114, 15)"
      ]
     },
     "execution_count": 22,
     "metadata": {},
     "output_type": "execute_result"
    }
   ],
   "source": [
    "#displays total rows and columns\n",
    "df.shape"
   ]
  },
  {
   "cell_type": "code",
   "execution_count": 23,
   "metadata": {},
   "outputs": [],
   "source": [
    "#not working\n",
    "#to find duplicates\n",
    "#temp_df = df.append(df)\n",
    "#temp_df.shape"
   ]
  },
  {
   "cell_type": "code",
   "execution_count": 24,
   "metadata": {},
   "outputs": [
    {
     "data": {
      "text/plain": [
       "(75114, 15)"
      ]
     },
     "execution_count": 24,
     "metadata": {},
     "output_type": "execute_result"
    }
   ],
   "source": [
    "#check for duplicates\n",
    "temp_df = df.drop_duplicates()\n",
    "temp_df.shape"
   ]
  },
  {
   "cell_type": "code",
   "execution_count": 34,
   "metadata": {},
   "outputs": [
    {
     "data": {
      "text/plain": [
       "(150228, 15)"
      ]
     },
     "execution_count": 34,
     "metadata": {},
     "output_type": "execute_result"
    }
   ],
   "source": [
    "temp_df = pd.concat([df,df])\n",
    "temp_df.shape"
   ]
  },
  {
   "cell_type": "code",
   "execution_count": 36,
   "metadata": {},
   "outputs": [
    {
     "data": {
      "text/plain": [
       "(75114, 15)"
      ]
     },
     "execution_count": 36,
     "metadata": {},
     "output_type": "execute_result"
    }
   ],
   "source": [
    "#keep can be \"first\", \"last\", False\n",
    "#temp_df.drop_duplicates(inplace=True, keep=False)\n",
    "temp_df.drop_duplicates(inplace=True, keep=\"last\")\n",
    "temp_df.shape"
   ]
  },
  {
   "cell_type": "code",
   "execution_count": 37,
   "metadata": {},
   "outputs": [
    {
     "data": {
      "text/plain": [
       "Index(['SEX_ABS', 'Sex', 'AGE', 'Age', 'STATE', 'State', 'REGIONTYPE',\n",
       "       'Geography Level', 'ASGS_2016', 'Region', 'TIME', 'Census year',\n",
       "       'Value', 'Flag Codes', 'Flags'],\n",
       "      dtype='object')"
      ]
     },
     "execution_count": 37,
     "metadata": {},
     "output_type": "execute_result"
    }
   ],
   "source": [
    "#get columns names\n",
    "df.columns"
   ]
  },
  {
   "cell_type": "code",
   "execution_count": 42,
   "metadata": {},
   "outputs": [
    {
     "data": {
      "text/plain": [
       "Index(['sex_abs', 'sex', 'age', 'age', 'state', 'state', 'regiontype',\n",
       "       'geography_level', 'asgs_2016', 'region', 'time', 'census_year',\n",
       "       'value', 'flag_codes', 'flags'],\n",
       "      dtype='object')"
      ]
     },
     "execution_count": 42,
     "metadata": {},
     "output_type": "execute_result"
    }
   ],
   "source": [
    "df.rename(columns = {\n",
    "    \"Geography Level\":\"Geography_Level\",\n",
    "    \"Census year\" : \"Census_year\",\n",
    "    \"Flag Codes\" : \"Flag_Codes\"\n",
    "}, inplace=True)\n",
    "df.columns"
   ]
  },
  {
   "cell_type": "code",
   "execution_count": 43,
   "metadata": {},
   "outputs": [
    {
     "data": {
      "text/plain": [
       "Index(['sex_abs', 'sex', 'age', 'age', 'state', 'state', 'regiontype',\n",
       "       'geography_level', 'asgs_2016', 'region', 'time', 'census_year',\n",
       "       'value', 'flag_codes', 'flags'],\n",
       "      dtype='object')"
      ]
     },
     "execution_count": 43,
     "metadata": {},
     "output_type": "execute_result"
    }
   ],
   "source": [
    "#make column name lowercase\n",
    "df.columns = [col.lower() for col in df]\n",
    "df.columns"
   ]
  }
 ],
 "metadata": {
  "kernelspec": {
   "display_name": "Python 3",
   "language": "python",
   "name": "python3"
  },
  "language_info": {
   "codemirror_mode": {
    "name": "ipython",
    "version": 3
   },
   "file_extension": ".py",
   "mimetype": "text/x-python",
   "name": "python",
   "nbconvert_exporter": "python",
   "pygments_lexer": "ipython3",
   "version": "3.11.3"
  },
  "orig_nbformat": 4
 },
 "nbformat": 4,
 "nbformat_minor": 2
}
